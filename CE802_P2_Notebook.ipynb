{
 "cells": [
  {
   "cell_type": "markdown",
   "metadata": {},
   "source": [
    "# Insurance claim classification problem"
   ]
  },
  {
   "cell_type": "markdown",
   "metadata": {},
   "source": [
    "                                                                                                  (Reg Id: 2003258)"
   ]
  },
  {
   "cell_type": "code",
   "execution_count": 234,
   "metadata": {},
   "outputs": [],
   "source": [
    "import pandas as pd\n",
    "from sklearn.model_selection import train_test_split,cross_val_score\n",
    "from sklearn import tree\n",
    "from sklearn.metrics import accuracy_score\n",
    "from sklearn.linear_model import LogisticRegression\n",
    "from sklearn.linear_model import LinearRegression\n",
    "from sklearn.neighbors import KNeighborsClassifier\n",
    "from sklearn.metrics import mean_squared_error, r2_score\n",
    "from sklearn.ensemble import RandomForestClassifier\n",
    "from sklearn.ensemble import GradientBoostingClassifier\n",
    "from sklearn.preprocessing import StandardScaler, MinMaxScaler\n",
    "import numpy as np"
   ]
  },
  {
   "cell_type": "markdown",
   "metadata": {},
   "source": [
    "### Loading the data from CE802_P2_Data"
   ]
  },
  {
   "cell_type": "code",
   "execution_count": 235,
   "metadata": {},
   "outputs": [],
   "source": [
    "data = pd.read_csv('C:\\PC\\ML_Project\\CE802_P2_Data\\CE802_P2_Data.csv');\n",
    "test = pd.read_csv('C:\\PC\\ML_Project\\CE802_P2_Data\\CE802_P2_Test.csv');"
   ]
  },
  {
   "cell_type": "markdown",
   "metadata": {},
   "source": [
    "### Imputation methods for missing data:"
   ]
  },
  {
   "cell_type": "markdown",
   "metadata": {},
   "source": [
    "Replacing a missing value in column F15 with its mean "
   ]
  },
  {
   "cell_type": "code",
   "execution_count": 236,
   "metadata": {},
   "outputs": [],
   "source": [
    "data_mean_imputation = data.copy()\n",
    "data_mean_imputation['F15'] =  data_mean_imputation['F15'].fillna(data_mean_imputation['F15'].mean())\n",
    "\n",
    "#Dropping the entire feature F15 as a baseline approach\n",
    "data_baseline = data_mean_imputation.drop(labels='F15',axis =1)"
   ]
  },
  {
   "cell_type": "markdown",
   "metadata": {},
   "source": [
    "In this case, Using a regression model to predict the missing values in the column F15"
   ]
  },
  {
   "cell_type": "code",
   "execution_count": 237,
   "metadata": {},
   "outputs": [],
   "source": [
    "#Here , Data is partitioned into two sets, one that has values in column F15 (data_notnull) \n",
    "#and other with missing values (data_null).\n",
    "#considering F15 as a target variable, data_notnull dataset is used to train linear regression model \n",
    "#and trained model is used to predict missing values in the second dataset data_null\n",
    "data_notnull = data.loc[~data['F15'].isna()]\n",
    "data_null = data.loc[data['F15'].isna()]\n"
   ]
  },
  {
   "cell_type": "code",
   "execution_count": 238,
   "metadata": {},
   "outputs": [],
   "source": [
    "X_notnull = data_notnull.loc[:,'F1':'F14']\n",
    "y_notnull= data_notnull.loc[:,'F15']\n",
    "X_test_null  = data_null.loc[:,'F1':'F14']\n",
    "X_train, X_test, y_train, y_test = train_test_split(X_notnull, y_notnull, test_size=0.30)"
   ]
  },
  {
   "cell_type": "code",
   "execution_count": 239,
   "metadata": {},
   "outputs": [
    {
     "data": {
      "text/plain": [
       "0.3222975593046743"
      ]
     },
     "execution_count": 239,
     "metadata": {},
     "output_type": "execute_result"
    }
   ],
   "source": [
    "# As can be seen below, our model is almost 40% better than the simple mean repleacement(coefficient of determination \n",
    "#is used a metric)\n",
    "lin_reg = LinearRegression();\n",
    "lin_reg.fit(X_train,y_train);\n",
    "y_pred1 = lin_reg.predict(X_test)\n",
    "r2_score(y_test,y_pred1)"
   ]
  },
  {
   "cell_type": "code",
   "execution_count": 240,
   "metadata": {},
   "outputs": [
    {
     "name": "stderr",
     "output_type": "stream",
     "text": [
      "C:\\Users\\user\\anaconda3\\envs\\tensorflow_env\\lib\\site-packages\\pandas\\core\\indexing.py:1745: SettingWithCopyWarning: \n",
      "A value is trying to be set on a copy of a slice from a DataFrame.\n",
      "Try using .loc[row_indexer,col_indexer] = value instead\n",
      "\n",
      "See the caveats in the documentation: https://pandas.pydata.org/pandas-docs/stable/user_guide/indexing.html#returning-a-view-versus-a-copy\n",
      "  isetter(ilocs[0], value)\n"
     ]
    }
   ],
   "source": [
    "#Missing values are predicted using the trained model and both the datasets are combined.\n",
    "F15_pred = lin_reg.predict(X_test_null)\n",
    "data_null.loc[:,'F15'] = F15_pred\n",
    "data_imp = pd.concat([data_notnull,data_null])"
   ]
  },
  {
   "cell_type": "markdown",
   "metadata": {},
   "source": [
    "### Data Splitting "
   ]
  },
  {
   "cell_type": "code",
   "execution_count": 241,
   "metadata": {},
   "outputs": [],
   "source": [
    "#columns from F1 to F15 are fetaures and Class is a target variable \n",
    "# and data is partitioned into train and test set in 70:30 ratio\n",
    "X = data_imp.loc[:,'F1':'F15']\n",
    "y = data_imp.loc[:,'Class']\n",
    "X_train, X_test, y_train, y_test = train_test_split(X, y, test_size=0.30,random_state=0)\n",
    "\n",
    "#Mean imputation split\n",
    "X_mean =data_mean_imputation.loc[:,'F1':'F15']\n",
    "y_mean = data_mean_imputation.loc[:,'Class']\n",
    "X_train_mean, X_test_mean, y_train_mean, y_test_mean = train_test_split(X_mean, y_mean, test_size=0.30,random_state=0)\n",
    "\n",
    "#Baseline approach split\n",
    "X_baseline =data_baseline.loc[:,'F1':'F14']\n",
    "y_baseline = data_baseline.loc[:,'Class']\n",
    "X_train_baseline, X_test_baseline, y_train_baseline, y_test_baseline = train_test_split(X_baseline, y_baseline, test_size=0.30,random_state=0)\n"
   ]
  },
  {
   "cell_type": "markdown",
   "metadata": {},
   "source": [
    "### Feature Scaling "
   ]
  },
  {
   "cell_type": "code",
   "execution_count": 242,
   "metadata": {},
   "outputs": [],
   "source": [
    "# Feature scaling for alogorithms svm ,logistic regression and KNN and various impuatation data\n",
    "sc = StandardScaler()\n",
    "sc.fit(X_train)\n",
    "X_train_std = sc.transform(X_train)\n",
    "X_test_std = sc.transform(X_test)\n",
    "\n",
    "sc.fit(X_train_mean)\n",
    "X_train_mean_std = sc.transform(X_train_mean)\n",
    "X_test_mean_std = sc.transform(X_test_mean)\n",
    "\n",
    "sc.fit(X_train_baseline)\n",
    "X_train_baseline_std = sc.transform(X_train_baseline)\n",
    "X_test_baseline_std = sc.transform(X_test_baseline)\n",
    "\n",
    "sca = MinMaxScaler()\n",
    "sca.fit(X_train)\n",
    "X_train_sca = sca.transform(X_train)\n",
    "X_test_sca = sca.transform(X_test)"
   ]
  },
  {
   "cell_type": "markdown",
   "metadata": {},
   "source": [
    "### Model Selection"
   ]
  },
  {
   "cell_type": "markdown",
   "metadata": {},
   "source": [
    "Here, Various models are trained and tested with diffrent imputation methods and performance is displayed in a\n",
    "tabular format"
   ]
  },
  {
   "cell_type": "markdown",
   "metadata": {},
   "source": [
    "##### Decision Tree"
   ]
  },
  {
   "cell_type": "code",
   "execution_count": 243,
   "metadata": {},
   "outputs": [
    {
     "name": "stdout",
     "output_type": "stream",
     "text": [
      "\u001b[1mDecisionTree Classifier\n",
      " \u001b[0m\n",
      "                              Regression Imputation    Mean Replacement      Baseline\n",
      "\n",
      "Cross validation accuracy:     81.52380952380952     78.57142857142858    74.95238095238095\n",
      "Test set accuracy:             82.44444444444444     77.77777777777779    75.33333333333333\n"
     ]
    }
   ],
   "source": [
    "clf = tree.DecisionTreeClassifier(min_samples_split=20,min_samples_leaf=10,random_state=0)\n",
    "cv_score_dt = cross_val_score(clf,X_train, y_train,cv=10)\n",
    "clf.fit(X_train,y_train)\n",
    "y_pred_dt =clf.predict(X_test)\n",
    "acc_score_dt =accuracy_score(y_test,y_pred_dt,normalize= True) * 100.0\n",
    "\n",
    "cv_score_dt_mean = cross_val_score(clf,X_train_mean, y_train_mean,cv=10)\n",
    "clf.fit(X_train_mean,y_train_mean)\n",
    "y_pred_dt_mean =clf.predict(X_test_mean)\n",
    "acc_score_dt_mean = accuracy_score(y_test_mean,y_pred_dt_mean,normalize= True) * 100.0\n",
    "\n",
    "cv_score_dt_baseline = cross_val_score(clf,X_train_baseline, y_train_baseline,cv=10)\n",
    "clf.fit(X_train_baseline,y_train_baseline)\n",
    "y_pred_dt_baseline =clf.predict(X_test_baseline)\n",
    "acc_score_dt_baseline = accuracy_score(y_test_baseline,y_pred_dt_baseline,normalize= True) * 100.0\n",
    "\n",
    "print('\\033[1m' + 'DecisionTree Classifier\\n ' + '\\033[0m')\n",
    "print('                          '+ '    Regression Imputation'+'    Mean Replacement'+ '      Baseline\\n')\n",
    "print('Cross validation accuracy:     ' + str(cv_score_dt.mean() * 100.0) + '     ' +\n",
    "      str(cv_score_dt_mean.mean()*100.0)+'    '+ str(cv_score_dt_baseline.mean()*100.0) )\n",
    "print('Test set accuracy:             '+  str(accuracy_score(y_test,y_pred_dt,normalize= True) * 100.0)+ '     '+\n",
    "      str(accuracy_score(y_test_mean,y_pred_dt_mean,normalize= True) * 100.0)+'    '+\n",
    "      str(accuracy_score(y_test_baseline,y_pred_dt_baseline,normalize= True) * 100.0))"
   ]
  },
  {
   "cell_type": "markdown",
   "metadata": {},
   "source": [
    "##### Gradient Boosting"
   ]
  },
  {
   "cell_type": "code",
   "execution_count": 244,
   "metadata": {},
   "outputs": [
    {
     "name": "stdout",
     "output_type": "stream",
     "text": [
      "\u001b[1mGradientBoosting Classifier\n",
      " \u001b[0m\n",
      "                             Regression Imputation    Mean Replacement      Baseline\n",
      "\n",
      "Cross validation accuracy:     87.23809523809523     86.95238095238095    85.52380952380952\n",
      "Test set accuracy:             85.77777777777777     90.44444444444444    86.66666666666667\n"
     ]
    }
   ],
   "source": [
    "gbc = GradientBoostingClassifier(n_estimators=120, learning_rate=1,max_depth=3, random_state=0)\n",
    "\n",
    "cv_score_gbc = cross_val_score(gbc,X_train, y_train,cv=10)\n",
    "gbc.fit(X_train, y_train)\n",
    "y_pred_gbc = gbc.predict(X_test)\n",
    "acc_score_gbc = accuracy_score(y_test,y_pred_gbc,normalize= True) * 100.0\n",
    "\n",
    "gbc_mean = GradientBoostingClassifier(n_estimators=120, learning_rate=1,max_depth=3, random_state=0)\n",
    "cv_score_gbc_mean = cross_val_score(gbc_mean,X_train_mean, y_train_mean,cv=10)\n",
    "gbc_mean.fit(X_train_mean,y_train_mean)\n",
    "y_pred_gbc_mean =gbc_mean.predict(X_test_mean)\n",
    "acc_score_gbc_mean = accuracy_score(y_test_mean,y_pred_gbc_mean,normalize= True) * 100.0\n",
    "\n",
    "gbc_baseline = GradientBoostingClassifier(n_estimators=120, learning_rate=1,max_depth=3, random_state=0)\n",
    "cv_score_gbc_baseline = cross_val_score(gbc_baseline,X_train_baseline, y_train_baseline,cv=10)\n",
    "gbc_baseline.fit(X_train_baseline,y_train_baseline)\n",
    "y_pred_gbc_baseline =gbc_baseline.predict(X_test_baseline)\n",
    "acc_score_gbc_baseline = accuracy_score(y_test_baseline,y_pred_gbc_baseline,normalize= True) * 100.0\n",
    "\n",
    "print('\\033[1m' + 'GradientBoosting Classifier\\n ' + '\\033[0m')\n",
    "print('                          '+ '   Regression Imputation'+'    Mean Replacement'+ '      Baseline\\n')\n",
    "print('Cross validation accuracy:     ' + str(cv_score_gbc.mean() * 100.0) + '     ' +\n",
    "      str(cv_score_gbc_mean.mean()*100.0)+'    '+ str(cv_score_gbc_baseline.mean()*100.0) )\n",
    "print('Test set accuracy:             '+  str(accuracy_score(y_test,y_pred_gbc,normalize= True) * 100.0)+ '     '+\n",
    "      str(accuracy_score(y_test_mean,y_pred_gbc_mean,normalize= True) * 100.0)+'    '+\n",
    "      str(accuracy_score(y_test_baseline,y_pred_gbc_baseline,normalize= True) * 100.0))"
   ]
  },
  {
   "cell_type": "markdown",
   "metadata": {},
   "source": [
    "##### Random Forest"
   ]
  },
  {
   "cell_type": "code",
   "execution_count": 245,
   "metadata": {},
   "outputs": [
    {
     "name": "stdout",
     "output_type": "stream",
     "text": [
      "\u001b[1mRandomForest Classifier\n",
      " \u001b[0m\n",
      "                           Regression Imputation    Mean Replacement      Baseline\n",
      "Cross validation accuracy:     86.47619047619047     85.14285714285717    82.57142857142856\n",
      "Test set accuracy:             86.66666666666667     86.44444444444444    82.88888888888889\n"
     ]
    }
   ],
   "source": [
    "rf = RandomForestClassifier(n_estimators=120, \n",
    "                               bootstrap = True,max_depth=20,\n",
    "                               max_features = 'sqrt',random_state=0)\n",
    "\n",
    "cv_score_rf = cross_val_score(rf,X_train, y_train,cv=10)\n",
    "rf.fit(X_train,y_train);\n",
    "y_pred_rf = rf.predict(X_test)\n",
    "acc_score_rf = accuracy_score(y_test,y_pred_rf,normalize= True) * 100.0\n",
    "\n",
    "cv_score_rf_mean = cross_val_score(rf,X_train_mean, y_train_mean,cv=10)\n",
    "rf.fit(X_train_mean,y_train_mean)\n",
    "y_pred_rf_mean =rf.predict(X_test_mean)\n",
    "acc_score_rf_mean = accuracy_score(y_test_mean,y_pred_rf_mean,normalize= True) * 100.0\n",
    "\n",
    "cv_score_rf_baseline = cross_val_score(rf,X_train_baseline, y_train_baseline,cv=10)\n",
    "rf.fit(X_train_baseline,y_train_baseline)\n",
    "y_pred_rf_baseline =rf.predict(X_test_baseline)\n",
    "acc_score_rf_baseline =accuracy_score(y_test_baseline,y_pred_rf_baseline,normalize= True) *100.0\n",
    "\n",
    "print('\\033[1m' + 'RandomForest Classifier\\n ' + '\\033[0m')\n",
    "print('                        '+ '   Regression Imputation'+'    Mean Replacement'+ '      Baseline')\n",
    "print('Cross validation accuracy:     ' + str(cv_score_rf.mean() * 100.0) + '     ' +\n",
    "      str(cv_score_rf_mean.mean()*100.0)+'    '+ str(cv_score_rf_baseline.mean()*100.0) )\n",
    "print('Test set accuracy:             '+  str(accuracy_score(y_test,y_pred_rf,normalize= True) * 100.0)+ '     '+\n",
    "      str(accuracy_score(y_test_mean,y_pred_rf_mean,normalize= True) * 100.0)+'    '+\n",
    "      str(accuracy_score(y_test_baseline,y_pred_rf_baseline,normalize= True) * 100.0))"
   ]
  },
  {
   "cell_type": "markdown",
   "metadata": {},
   "source": [
    "##### Logistic Regression"
   ]
  },
  {
   "cell_type": "code",
   "execution_count": 246,
   "metadata": {},
   "outputs": [
    {
     "name": "stdout",
     "output_type": "stream",
     "text": [
      "\u001b[1mLogistic Regression\n",
      " \u001b[0m\n",
      "                           Regression Imputation    Mean Replacement      Baseline\n",
      "Cross validation accuracy:     84.19047619047619     82.38095238095238    79.52380952380953\n",
      "Test set accuracy:             85.11111111111111     85.55555555555556    81.77777777777779\n"
     ]
    }
   ],
   "source": [
    "lg = LogisticRegression(max_iter=100);\n",
    "\n",
    "cv_score_lg = cross_val_score(lg,X_train_std, y_train,cv=10)\n",
    "lg.fit(X_train_std,y_train);\n",
    "y_pred_lg = lg.predict(X_test_std)\n",
    "acc_score_lg =accuracy_score(y_test,y_pred_lg,normalize= True) * 100.0\n",
    "\n",
    "cv_score_lg_mean = cross_val_score(lg,X_train_mean_std, y_train_mean,cv=10)\n",
    "lg.fit(X_train_mean_std,y_train_mean)\n",
    "y_pred_lg_mean =lg.predict(X_test_mean_std)\n",
    "acc_score_lg_mean = accuracy_score(y_test_mean,y_pred_lg_mean,normalize= True) * 100.0\n",
    "\n",
    "cv_score_lg_baseline = cross_val_score(lg,X_train_baseline_std, y_train_baseline,cv=10)\n",
    "lg.fit(X_train_baseline_std,y_train_baseline)\n",
    "y_pred_lg_baseline =lg.predict(X_test_baseline_std)\n",
    "acc_score_lg_baseline = accuracy_score(y_test_baseline,y_pred_lg_baseline,normalize= True) * 100.0\n",
    "\n",
    "print('\\033[1m' + 'Logistic Regression\\n ' + '\\033[0m')\n",
    "print('                        '+ '   Regression Imputation'+'    Mean Replacement'+ '      Baseline')\n",
    "print('Cross validation accuracy:     ' + str(cv_score_lg.mean() * 100.0) + '     ' +\n",
    "      str(cv_score_lg_mean.mean()*100.0)+'    '+ str(cv_score_lg_baseline.mean()*100.0) )\n",
    "print('Test set accuracy:             '+  str(accuracy_score(y_test,y_pred_lg,normalize= True) * 100.0)+ '     '+\n",
    "      str(accuracy_score(y_test_mean,y_pred_lg_mean,normalize= True) * 100.0)+'    '+\n",
    "      str(accuracy_score(y_test_baseline,y_pred_lg_baseline,normalize= True) * 100.0))\n"
   ]
  },
  {
   "cell_type": "markdown",
   "metadata": {},
   "source": [
    "##### SVM"
   ]
  },
  {
   "cell_type": "code",
   "execution_count": 247,
   "metadata": {},
   "outputs": [
    {
     "name": "stdout",
     "output_type": "stream",
     "text": [
      "\u001b[1mSVM\n",
      " \u001b[0m\n",
      "                               Regression Imputation    Mean Replacement      Baseline\n",
      "\n",
      "Cross validation accuracy:     85.33333333333333     83.6190476190476    78.66666666666667\n",
      "Test set accuracy:             85.33333333333334     86.44444444444444    81.77777777777779\n"
     ]
    }
   ],
   "source": [
    "from sklearn import svm\n",
    "\n",
    "svm = svm.SVC(kernel='linear')\n",
    "cv_score_svm = cross_val_score(svm,X_train_std, y_train,cv=10)\n",
    "svm.fit(X_train_std,y_train);\n",
    "y_pred_svm = svm.predict(X_test_std)\n",
    "acc_score_svm = accuracy_score(y_test,y_pred_svm,normalize= True) * 100.0\n",
    "\n",
    "cv_score_svm_mean = cross_val_score(svm,X_train_mean_std, y_train_mean,cv=10)\n",
    "svm.fit(X_train_mean_std,y_train_mean)\n",
    "y_pred_svm_mean =svm.predict(X_test_mean_std)\n",
    "acc_score_svm_mean = accuracy_score(y_test_mean,y_pred_svm_mean,normalize= True) * 100.0\n",
    "\n",
    "\n",
    "cv_score_svm_baseline = cross_val_score(svm,X_train_baseline_std, y_train_baseline,cv=10)\n",
    "svm.fit(X_train_baseline_std,y_train_baseline)\n",
    "y_pred_svm_baseline =svm.predict(X_test_baseline_std)\n",
    "acc_score_svm_baseline = accuracy_score(y_test_baseline,y_pred_svm_baseline,normalize= True) * 100.0\n",
    "\n",
    "\n",
    "print('\\033[1m' + 'SVM\\n ' + '\\033[0m')\n",
    "print('                            '+ '   Regression Imputation'+'    Mean Replacement'+ '      Baseline\\n')\n",
    "print('Cross validation accuracy:     ' + str(cv_score_svm.mean() * 100.0) + '     ' +\n",
    "      str(cv_score_svm_mean.mean()*100.0)+'    '+ str(cv_score_svm_baseline.mean()*100.0) )\n",
    "print('Test set accuracy:             '+  str(accuracy_score(y_test,y_pred_svm,normalize= True) * 100.0)+ '     '+\n",
    "      str(accuracy_score(y_test_mean,y_pred_svm_mean,normalize= True) * 100.0)+'    '+\n",
    "      str(accuracy_score(y_test_baseline,y_pred_svm_baseline,normalize= True) * 100.0))\n"
   ]
  },
  {
   "cell_type": "markdown",
   "metadata": {},
   "source": [
    "##### KNN"
   ]
  },
  {
   "cell_type": "code",
   "execution_count": 248,
   "metadata": {},
   "outputs": [
    {
     "name": "stdout",
     "output_type": "stream",
     "text": [
      "\u001b[1mKNN\n",
      " \u001b[0m\n",
      "                              Regression Imputation    Mean Replacement      Baseline\n",
      "\n",
      "Cross validation accuracy:     79.33333333333333     73.71428571428572    66.95238095238096\n",
      "Test set accuracy:             82.66666666666667     76.88888888888889    73.33333333333333\n"
     ]
    }
   ],
   "source": [
    "knn = KNeighborsClassifier(n_neighbors=5)\n",
    "cv_score_knn = cross_val_score(knn,X_train_std, y_train,cv=10)\n",
    "knn.fit(X_train_std,y_train);\n",
    "y_pred_knn = knn.predict(X_test_std)\n",
    "acc_score_knn = accuracy_score(y_test,y_pred_knn,normalize= True) * 100.0\n",
    "\n",
    "cv_score_knn_mean = cross_val_score(knn,X_train_mean_std, y_train_mean,cv=10)\n",
    "knn.fit(X_train_mean_std,y_train_mean)\n",
    "y_pred_knn_mean =knn.predict(X_test_mean_std)\n",
    "acc_score_knn_mean = accuracy_score(y_test_mean,y_pred_knn_mean,normalize= True) * 100.0\n",
    "\n",
    "cv_score_knn_baseline = cross_val_score(knn,X_train_baseline_std, y_train_baseline,cv=10)\n",
    "knn.fit(X_train_baseline_std,y_train_baseline)\n",
    "y_pred_knn_baseline =knn.predict(X_test_baseline_std)\n",
    "acc_score_knn_baseline =accuracy_score(y_test_baseline,y_pred_knn_baseline,normalize= True) * 100.0\n",
    "\n",
    "print('\\033[1m' + 'KNN\\n ' + '\\033[0m')\n",
    "print('                           '+ '   Regression Imputation'+'    Mean Replacement'+ '      Baseline\\n')\n",
    "print('Cross validation accuracy:     ' + str(cv_score_knn.mean() * 100.0) + '     ' +\n",
    "      str(cv_score_knn_mean.mean()*100.0)+'    '+ str(cv_score_knn_baseline.mean()*100.0) )\n",
    "print('Test set accuracy:             '+  str(accuracy_score(y_test,y_pred_knn,normalize= True) * 100.0)+ '     '+\n",
    "      str(accuracy_score(y_test_mean,y_pred_knn_mean,normalize= True) * 100.0)+'    '+\n",
    "      str(accuracy_score(y_test_baseline,y_pred_knn_baseline,normalize= True) * 100.0))\n"
   ]
  },
  {
   "cell_type": "markdown",
   "metadata": {},
   "source": [
    "### Performance plot "
   ]
  },
  {
   "cell_type": "markdown",
   "metadata": {},
   "source": [
    "the Bar chart below describes how models under test performed for a given data.\n",
    "And also how they behaved with various imputation methods "
   ]
  },
  {
   "cell_type": "code",
   "execution_count": 249,
   "metadata": {},
   "outputs": [
    {
     "data": {
      "image/png": "[encoded data removed]",
      "text/plain": [
       "<Figure size 1008x360 with 1 Axes>"
      ]
     },
     "metadata": {
      "needs_background": "light"
     },
     "output_type": "display_data"
    }
   ],
   "source": [
    "import matplotlib.pyplot as plt\n",
    "N = 6\n",
    "\n",
    "reg_score =      [acc_score_dt, acc_score_gbc, acc_score_rf,acc_score_lg, acc_score_svm, acc_score_knn]\n",
    "mean_score =     [acc_score_dt_mean, acc_score_gbc_mean, acc_score_rf_mean, acc_score_lg_mean,\n",
    "                  acc_score_svm_mean,acc_score_knn_mean]\n",
    "baseline_score = [acc_score_dt_baseline, acc_score_gbc_baseline, acc_score_rf_baseline,acc_score_lg_baseline,\n",
    "                  acc_score_svm_baseline,acc_score_knn_baseline]\n",
    "\n",
    "data = [reg_score,mean_score,baseline_score]\n",
    "X = np.arange(N)\n",
    "width = 0.10\n",
    "\n",
    "\n",
    "plt.bar(X+0.00, data[0], width, color='b', label='Regression')\n",
    "plt.bar(X+0.10, data[1], width, color='g', label='Mean')\n",
    "plt.bar(X+0.20, data[2], width, color='r', label='Baseline')\n",
    "plt.xticks(X + width / 2, ('Decision Tree','Gradient Boosting','Random forest','Logistic Regression','SVM','KNN'))\n",
    "plt.ylabel('Accuracy')\n",
    "plt.xlabel('models')\n",
    "plt.title('Performance')\n",
    "plt.ylim([70,95])\n",
    "plt.rcParams[\"figure.figsize\"] = (14,5)\n",
    "\n",
    "colors = {'Regression':'blue', 'Mean':'green','Baseline':'red'}         \n",
    "labels = list(colors.keys())\n",
    "handles = [plt.Rectangle((0,0),1,1, color=colors[label]) for label in labels]\n",
    "plt.legend(handles, labels)\n",
    "\n",
    "plt.show()\n"
   ]
  },
  {
   "cell_type": "markdown",
   "metadata": {},
   "source": [
    "### Test Set Prediction"
   ]
  },
  {
   "cell_type": "markdown",
   "metadata": {},
   "source": [
    "As it can be clearly seen in the above camparision analysis , Gradient boosting classifaction model \n",
    "is giving the highest accuracy , So we will use it to predict on test set.\n",
    "And Like we did in camparision analysis,missing values in fature F15 is predicted using linear regression "
   ]
  },
  {
   "cell_type": "code",
   "execution_count": 250,
   "metadata": {},
   "outputs": [],
   "source": [
    "#split data set to predict missing values \n",
    "test_notnull = test.loc[~test['F15'].isna()]\n",
    "test_null = test.loc[test['F15'].isna()]"
   ]
  },
  {
   "cell_type": "code",
   "execution_count": 251,
   "metadata": {},
   "outputs": [
    {
     "name": "stderr",
     "output_type": "stream",
     "text": [
      "<ipython-input-251-7559190c20d2>:18: SettingWithCopyWarning: \n",
      "A value is trying to be set on a copy of a slice from a DataFrame.\n",
      "Try using .loc[row_indexer,col_indexer] = value instead\n",
      "\n",
      "See the caveats in the documentation: https://pandas.pydata.org/pandas-docs/stable/user_guide/indexing.html#returning-a-view-versus-a-copy\n",
      "  test_null['F15'] = y_test_null\n"
     ]
    }
   ],
   "source": [
    "# Predict the missing values using linear regression model and replace them with NAN in test set \n",
    "X_test = test_notnull.loc[:,'F1':'F14']\n",
    "y_test = test_notnull.loc[:,'F15']\n",
    "\n",
    "\n",
    "\n",
    "sca1 = MinMaxScaler()\n",
    "sca1.fit(X_test)\n",
    "X_test_sca = sca1.transform(X_test)\n",
    "\n",
    "lin_reg_test = LinearRegression()\n",
    "lin_reg_test.fit(X_test_sca,y_test)\n",
    "\n",
    "X_test_null = test_null.loc[:,'F1':'F14']\n",
    "X_test_null_sca = sca1.transform(X_test_null)\n",
    "\n",
    "y_test_null = lin_reg_test.predict(X_test_null_sca)\n",
    "test_null['F15'] = y_test_null\n",
    "\n",
    "test_imp = pd.concat([test_notnull,test_null])"
   ]
  },
  {
   "cell_type": "code",
   "execution_count": 252,
   "metadata": {},
   "outputs": [],
   "source": [
    "# Predicting the traget variable (Class) and add them to test set\n",
    "X_test_imp = test_imp.loc[:,'F1':'F15']\n",
    "test_imp['Class'] = gbc.predict(X_test_imp)"
   ]
  },
  {
   "cell_type": "code",
   "execution_count": 253,
   "metadata": {},
   "outputs": [],
   "source": [
    "#Export the testset to csv file\n",
    "test_imp.to_csv('C:\\PC\\ML_Project\\CE802_P2_Test.csv')"
   ]
  },
  {
   "cell_type": "code",
   "execution_count": null,
   "metadata": {},
   "outputs": [],
   "source": []
  }
 ],
 "metadata": {
  "kernelspec": {
   "display_name": "Python 3",
   "language": "python",
   "name": "python3"
  },
  "language_info": {
   "codemirror_mode": {
    "name": "ipython",
    "version": 3
   },
   "file_extension": ".py",
   "mimetype": "text/x-python",
   "name": "python",
   "nbconvert_exporter": "python",
   "pygments_lexer": "ipython3",
   "version": "3.8.5"
  }
 },
 "nbformat": 4,
 "nbformat_minor": 4
}
