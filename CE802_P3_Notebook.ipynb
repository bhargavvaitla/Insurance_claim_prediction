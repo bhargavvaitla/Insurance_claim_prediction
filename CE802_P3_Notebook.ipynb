{
 "cells": [
  {
   "cell_type": "markdown",
   "metadata": {},
   "source": [
    "# Insurance claim regression problem"
   ]
  },
  {
   "cell_type": "markdown",
   "metadata": {},
   "source": [
    "                                                                                                    (Reg Id: 2003258)"
   ]
  },
  {
   "cell_type": "code",
   "execution_count": 341,
   "metadata": {},
   "outputs": [],
   "source": [
    "import pandas as pd\n",
    "from sklearn.model_selection import train_test_split,cross_val_score\n",
    "from sklearn import tree\n",
    "from sklearn.metrics import accuracy_score\n",
    "from sklearn.linear_model import LogisticRegression\n",
    "from sklearn.linear_model import LinearRegression\n",
    "from sklearn.neighbors import KNeighborsClassifier, KNeighborsRegressor\n",
    "from sklearn.metrics import mean_squared_error,r2_score\n",
    "from sklearn.ensemble import RandomForestClassifier\n",
    "from sklearn.ensemble import GradientBoostingClassifier, GradientBoostingRegressor\n",
    "from sklearn.preprocessing import OneHotEncoder, LabelEncoder, OrdinalEncoder\n",
    "from sklearn.tree import DecisionTreeRegressor\n",
    "from sklearn.preprocessing import MinMaxScaler"
   ]
  },
  {
   "cell_type": "markdown",
   "metadata": {},
   "source": [
    "### Loading the data from CE802_P3_Data"
   ]
  },
  {
   "cell_type": "code",
   "execution_count": 342,
   "metadata": {},
   "outputs": [],
   "source": [
    "#Read P3 data\n",
    "data = pd.read_csv('C:\\PC\\ML_Project\\CE802_P3_Data\\CE802_P3_Data.csv')\n",
    "test = pd.read_csv('C:\\PC\\ML_Project\\CE802_P3_Data\\CE802_P3_Test.csv')"
   ]
  },
  {
   "cell_type": "code",
   "execution_count": 343,
   "metadata": {},
   "outputs": [],
   "source": [
    "test_org = test.copy()"
   ]
  },
  {
   "cell_type": "markdown",
   "metadata": {},
   "source": [
    "### Pre-processing"
   ]
  },
  {
   "cell_type": "code",
   "execution_count": 344,
   "metadata": {},
   "outputs": [
    {
     "data": {
      "text/plain": [
       "array(['UK', 'Europe', 'USA', 'Rest'], dtype=object)"
      ]
     },
     "execution_count": 344,
     "metadata": {},
     "output_type": "execute_result"
    }
   ],
   "source": [
    "data['F4'].unique()"
   ]
  },
  {
   "cell_type": "markdown",
   "metadata": {},
   "source": [
    "  Here, Feature F4 has taken 4 unique values, since there is no order or rank among values. And no of unique values are also     minimal, in situations like this , one hot encodeing is preferred"
   ]
  },
  {
   "cell_type": "code",
   "execution_count": 345,
   "metadata": {},
   "outputs": [],
   "source": [
    "#one hot encoding F4 (countries)\n",
    "encoder=OneHotEncoder(sparse=False)\n",
    "encoder.fit(data[['F4']])\n",
    "data_encoded = pd.DataFrame(encoder.transform(data[['F4']]))\n",
    "data_encoded.columns = encoder.get_feature_names(['F4'])\n",
    "data.drop(['F4'],axis =1,inplace=True)\n",
    "#encoder.get_feature_names(['F4'])\n",
    "data = pd.concat([data,data_encoded], axis=1 )\n",
    "\n",
    "#encoding for test set \n",
    "test_encoded = pd.DataFrame(encoder.transform(test[['F4']]))\n",
    "test_encoded.columns = encoder.get_feature_names(['F4'])\n",
    "test.drop(['F4'],axis =1,inplace=True)\n",
    "test = pd.concat([test,test_encoded], axis=1 )\n"
   ]
  },
  {
   "cell_type": "code",
   "execution_count": 346,
   "metadata": {},
   "outputs": [
    {
     "data": {
      "text/plain": [
       "array(['Very high', 'Very low', 'Low', 'Medium', 'High'], dtype=object)"
      ]
     },
     "execution_count": 346,
     "metadata": {},
     "output_type": "execute_result"
    }
   ],
   "source": [
    "data['F15'].unique()"
   ]
  },
  {
   "cell_type": "markdown",
   "metadata": {},
   "source": [
    "As Can be seen above, feature 'F15' is a catogorical feature with 5 diffrent unique values. It can also be observed, there \n",
    "is order among them,so,it makes them ordinal categorical feature.\n",
    "Ordinal encoding is used on feature 'F15'"
   ]
  },
  {
   "cell_type": "code",
   "execution_count": 347,
   "metadata": {},
   "outputs": [],
   "source": [
    "seq = ['Very low','Low','Medium','High','Very high']\n",
    "oe = OrdinalEncoder(categories=[seq])\n",
    "oe.fit(data[['F15']])\n",
    "data['F15'] = pd.DataFrame(oe.transform(data[['F15']]))\n",
    "\n",
    "test['F15'] = pd.DataFrame(oe.transform(test[['F15']]))"
   ]
  },
  {
   "cell_type": "markdown",
   "metadata": {},
   "source": [
    "### Data Splitting "
   ]
  },
  {
   "cell_type": "code",
   "execution_count": 348,
   "metadata": {},
   "outputs": [],
   "source": [
    "data_y = data[['Target']]\n",
    "data_X = data.drop(columns=['Target'],axis=1)"
   ]
  },
  {
   "cell_type": "code",
   "execution_count": 349,
   "metadata": {},
   "outputs": [],
   "source": [
    "# Data is split into 70:30 ratio \n",
    "X_train, X_test, y_train, y_test = train_test_split(data_X, data_y, test_size=0.30,random_state=42)"
   ]
  },
  {
   "cell_type": "markdown",
   "metadata": {},
   "source": [
    "Here,we need to first predict , if insured would make a claim , and then if he deos , how much ?.\n",
    "We can devide problem into two parts classification part and regression part.\n",
    "Inorder to have training data for both the problem, we devide data in two ways.\n",
    "One dataset with boolean target variable for classification problem and other with target variable with amount\n",
    "claimed by insured for regression part."
   ]
  },
  {
   "cell_type": "code",
   "execution_count": 350,
   "metadata": {},
   "outputs": [],
   "source": [
    "#this dataset would have a training examples where insurance is claimed,this is used to tarin regression part \n",
    "# of the problem statement \n",
    "X_train_claimed = X_train[y_train['Target'] > 0.0]\n",
    "y_train_claimed = y_train[y_train['Target'] > 0.0]\n",
    "X_test_claimed = X_test[y_test['Target'] > 0.0]\n",
    "y_test_claimed = y_test[y_test['Target'] > 0.0]"
   ]
  },
  {
   "cell_type": "code",
   "execution_count": 351,
   "metadata": {},
   "outputs": [],
   "source": [
    "#this can be used as a target variable for classification part of the problme.\n",
    "# the value would be 1 if insurance is cliamed ,0 otherwise \n",
    "y_train_isClaimed = (y_train['Target'] > 0.0).astype(int)\n",
    "y_test_isCliamed = (y_test['Target'] > 0.0).astype(int)"
   ]
  },
  {
   "cell_type": "markdown",
   "metadata": {},
   "source": [
    "### Feature Scaling "
   ]
  },
  {
   "cell_type": "code",
   "execution_count": 352,
   "metadata": {},
   "outputs": [],
   "source": [
    "# Features are normalised using minmax scaler \n",
    "sca = MinMaxScaler()\n",
    "sca.fit(X_train)\n",
    "X_train_sca = sca.transform(X_train)\n",
    "X_test_sca = sca.transform(X_test)\n",
    "\n",
    "# scaling regression probelem data set\n",
    "sca1= MinMaxScaler()\n",
    "sca1.fit(X_train_claimed)\n",
    "X_train_claimed_sca = sca.transform(X_train_claimed)\n",
    "X_test_claimed_sca = sca.transform(X_test_claimed)\n"
   ]
  },
  {
   "cell_type": "markdown",
   "metadata": {},
   "source": [
    "### Model Selection"
   ]
  },
  {
   "cell_type": "markdown",
   "metadata": {},
   "source": [
    "##### Classifier model analysis"
   ]
  },
  {
   "cell_type": "markdown",
   "metadata": {},
   "source": [
    "Firstly,we will select best classifier for our problem camparing various classifiers "
   ]
  },
  {
   "cell_type": "markdown",
   "metadata": {},
   "source": [
    "###### Logistic Regression"
   ]
  },
  {
   "cell_type": "code",
   "execution_count": 353,
   "metadata": {},
   "outputs": [
    {
     "name": "stdout",
     "output_type": "stream",
     "text": [
      "\u001b[1mLogistic Regression\n",
      " \u001b[0m\n",
      "Cross validation accuracy: 93.61904761904762\n",
      "Test set accuracy:         93.77777777777779\n"
     ]
    }
   ],
   "source": [
    "lg = LogisticRegression(max_iter=1000);\n",
    "cv_score_lg = cross_val_score(lg,X_train_sca, y_train_isClaimed,cv=10)\n",
    "\n",
    "lg.fit(X_train_sca,y_train_isClaimed);\n",
    "y_pred_lg = lg.predict(X_test_sca)\n",
    "acc_score_lg = accuracy_score(y_test_isCliamed,y_pred_lg,normalize= True)* 100.0\n",
    "\n",
    "print('\\033[1m' + 'Logistic Regression\\n ' + '\\033[0m')\n",
    "print('Cross validation accuracy: ' + str(cv_score_lg.mean()* 100.0))\n",
    "print('Test set accuracy:         '+  str(accuracy_score(y_test_isCliamed,y_pred_lg,normalize= True)* 100.0))"
   ]
  },
  {
   "cell_type": "markdown",
   "metadata": {},
   "source": [
    "###### SVM"
   ]
  },
  {
   "cell_type": "code",
   "execution_count": 354,
   "metadata": {},
   "outputs": [
    {
     "name": "stdout",
     "output_type": "stream",
     "text": [
      "\u001b[1mSVM\n",
      " \u001b[0m\n",
      "Cross validation accuracy: 96.28571428571429\n",
      "Test set accuracy:         95.55555555555556\n"
     ]
    }
   ],
   "source": [
    "from sklearn import svm\n",
    "\n",
    "svmc = svm.SVC(kernel='linear')\n",
    "cv_score_svm = cross_val_score(svmc,X_train_sca, y_train_isClaimed,cv=10)\n",
    "\n",
    "svmc.fit(X_train_sca,y_train_isClaimed);\n",
    "y_pred_svm = svmc.predict(X_test_sca)\n",
    "acc_score_svm = accuracy_score(y_test_isCliamed,y_pred_svm,normalize= True)* 100.0\n",
    "\n",
    "print('\\033[1m' + 'SVM\\n ' + '\\033[0m')\n",
    "print('Cross validation accuracy: ' + str(cv_score_svm.mean()* 100.0))\n",
    "print('Test set accuracy:         '+  str(accuracy_score(y_test_isCliamed,y_pred_svm,normalize= True)* 100.0))"
   ]
  },
  {
   "cell_type": "code",
   "execution_count": 355,
   "metadata": {},
   "outputs": [
    {
     "name": "stdout",
     "output_type": "stream",
     "text": [
      "\u001b[1mRandomForest Classifier\n",
      " \u001b[0m\n",
      "Cross validation accuracy: 86.1904761904762\n",
      "Test set accuracy:         85.77777777777777\n"
     ]
    }
   ],
   "source": [
    "rf = RandomForestClassifier(n_estimators=100, \n",
    "                               bootstrap = True,\n",
    "                               max_features = 'sqrt')\n",
    "cv_score_rf = cross_val_score(rf,X_train, y_train_isClaimed,cv=10)\n",
    "rf.fit(X_train,y_train_isClaimed);\n",
    "y_pred_rf = rf.predict(X_test)\n",
    "acc_score_rf = accuracy_score(y_test_isCliamed,y_pred_rf,normalize= True)* 100.0\n",
    "\n",
    "print('\\033[1m' + 'RandomForest Classifier\\n ' + '\\033[0m')\n",
    "print('Cross validation accuracy: ' + str(cv_score_rf.mean()* 100.0))\n",
    "print('Test set accuracy:         '+  str(accuracy_score(y_test_isCliamed,y_pred_rf,normalize= True)* 100.0))"
   ]
  },
  {
   "cell_type": "code",
   "execution_count": 356,
   "metadata": {},
   "outputs": [
    {
     "name": "stdout",
     "output_type": "stream",
     "text": [
      "\u001b[1mGradientBoosting Classifier\n",
      " \u001b[0m\n",
      "Cross validation accuracy: 94.0952380952381\n",
      "Test set accuracy:         92.66666666666666\n"
     ]
    }
   ],
   "source": [
    "gbc = GradientBoostingClassifier(n_estimators=180, learning_rate=1.0,max_depth=1, random_state=0)\n",
    "gbc.fit(X_train, y_train_isClaimed)\n",
    "cv_score_gb = cross_val_score(gbc,X_train, y_train_isClaimed,cv=10)\n",
    "y_pred_gbc = gbc.predict(X_test)\n",
    "acc_score_gbc = accuracy_score(y_test_isCliamed,y_pred_gbc,normalize= True)* 100.0\n",
    "print('\\033[1m' + 'GradientBoosting Classifier\\n ' + '\\033[0m')\n",
    "print('Cross validation accuracy: ' + str(cv_score_gb.mean() * 100.0))\n",
    "print('Test set accuracy:         '+  str(accuracy_score(y_test_isCliamed,y_pred_gbc,normalize= True)* 100.0))"
   ]
  },
  {
   "cell_type": "markdown",
   "metadata": {},
   "source": [
    "### Classifiers Performance plot"
   ]
  },
  {
   "cell_type": "markdown",
   "metadata": {},
   "source": [
    "Here, Various alogorithms performance is ploted and displayed in a tabular form "
   ]
  },
  {
   "cell_type": "code",
   "execution_count": 357,
   "metadata": {},
   "outputs": [
    {
     "data": {
      "image/png": "[encoded data removed]",
      "text/plain": [
       "<Figure size 720x360 with 1 Axes>"
      ]
     },
     "metadata": {
      "needs_background": "light"
     },
     "output_type": "display_data"
    }
   ],
   "source": [
    "import matplotlib.pyplot as plt\n",
    "import numpy as np\n",
    "\n",
    "acc_score =[acc_score_lg, acc_score_svm, acc_score_rf, acc_score_gbc]\n",
    "\n",
    "\n",
    "N=4\n",
    "X = np.arange(N)\n",
    "width = 0.10\n",
    "plt.bar(X, acc_score, width, color='r')\n",
    "plt.xticks(X + width / 2, ('Logistic Regression', 'SVM','Random forest','GradientBoosting'))\n",
    "\n",
    "plt.ylabel('Accuracy')\n",
    "plt.xlabel('models')\n",
    "plt.title('Performance')\n",
    "plt.ylim([80,98])\n",
    "plt.rcParams[\"figure.figsize\"] = (14,5)\n",
    "\n",
    "plt.show()"
   ]
  },
  {
   "cell_type": "code",
   "execution_count": 372,
   "metadata": {},
   "outputs": [
    {
     "name": "stdout",
     "output_type": "stream",
     "text": [
      "                             Logistic Regression           SVM             Random forest        GradientBoosting\n",
      "\n",
      "Cross validation accuracy:   93.61904761904762      -1.108369021883805      86.1904761904762     81.3213895765909\n",
      "Test set accuracy        :   93.77777777777779      95.55555555555556      85.77777777777777     92.66666666666666\n"
     ]
    }
   ],
   "source": [
    "print('                           '+ '  Logistic Regression       '+'    SVM          '+ '   Random forest'+\n",
    "      '        GradientBoosting\\n')\n",
    "print('Cross validation accuracy:   ' + str(cv_score_lg.mean() * 100.0)+'      '+str(cv_score_svm.mean() * 100.0)+'      '+ \n",
    "str(cv_score_rf.mean() * 100.0)+ '     '+str(cv_score_gb.mean() * 100.0))\n",
    "print('Test set accuracy        :   '+  str(acc_score_lg) + '      ' +str(acc_score_svm) + '      '+str(acc_score_rf)+\n",
    "      '     '+ str(acc_score_gbc))"
   ]
  },
  {
   "cell_type": "markdown",
   "metadata": {},
   "source": [
    "##### Regression model analysis"
   ]
  },
  {
   "cell_type": "markdown",
   "metadata": {},
   "source": [
    "Using the dataset for regression problem,lets analyse which regression algorithm would be best suited for our problem "
   ]
  },
  {
   "cell_type": "markdown",
   "metadata": {},
   "source": [
    "###### Linear Regression"
   ]
  },
  {
   "cell_type": "code",
   "execution_count": 359,
   "metadata": {},
   "outputs": [
    {
     "data": {
      "text/plain": [
       "(743, 19)"
      ]
     },
     "execution_count": 359,
     "metadata": {},
     "output_type": "execute_result"
    }
   ],
   "source": [
    "X_train_claimed_sca.shape"
   ]
  },
  {
   "cell_type": "code",
   "execution_count": 360,
   "metadata": {},
   "outputs": [
    {
     "name": "stdout",
     "output_type": "stream",
     "text": [
      "\u001b[1mLinearRegression\n",
      " \u001b[0m\n",
      "Cross validation R2 score: 0.8535207251078953\n",
      "Test set R2 score :         0.8574177548224118\n",
      "Test set root mean square erorr score : 409.81509889921205\n"
     ]
    }
   ],
   "source": [
    "lin_reg = LinearRegression()\n",
    "cv_score_lin = cross_val_score(lin_reg,X_train_claimed_sca, y_train_claimed,cv=10,scoring='r2')\n",
    "lin_reg.fit(X_train_claimed_sca,y_train_claimed)\n",
    "y_test_pred_lin= lin_reg.predict(X_test_claimed_sca)\n",
    "r2_score_lin = r2_score(y_test_claimed,y_test_pred_lin)\n",
    "print('\\033[1m' + 'LinearRegression\\n ' + '\\033[0m')\n",
    "print('Cross validation R2 score: ' + str(cv_score_lin.mean()))\n",
    "print('Test set R2 score :         '+  str(r2_score(y_test_claimed,y_test_pred_lin)))\n",
    "print('Test set root mean square erorr score : '+  str(mean_squared_error(y_test_claimed,y_test_pred_lin) ** 0.5))\n"
   ]
  },
  {
   "cell_type": "markdown",
   "metadata": {},
   "source": [
    "###### KNN"
   ]
  },
  {
   "cell_type": "code",
   "execution_count": 361,
   "metadata": {},
   "outputs": [
    {
     "name": "stdout",
     "output_type": "stream",
     "text": [
      "\u001b[1mKNeighborsRegressor\n",
      " \u001b[0m\n",
      "Cross validation R2 score: 0.48363385227363703\n",
      "Test set R2 score :         0.5701058847735825\n",
      "Test set root mean square erorr score : 711.6000676480139\n"
     ]
    }
   ],
   "source": [
    "knn_reg = KNeighborsRegressor(n_neighbors=5)\n",
    "cv_score_knn = cross_val_score(knn_reg,X_train_claimed_sca, y_train_claimed,cv=10,scoring='r2')\n",
    "knn_reg.fit(X_train_claimed_sca,y_train_claimed)\n",
    "y_test_pred_knn = knn_reg.predict(X_test_claimed_sca)\n",
    "r2_score_knn = r2_score(y_test_claimed,y_test_pred_knn)\n",
    "print('\\033[1m' + 'KNeighborsRegressor\\n ' + '\\033[0m')\n",
    "print('Cross validation R2 score: ' + str(cv_score_knn.mean()))\n",
    "print('Test set R2 score :         '+  str(r2_score(y_test_claimed,y_test_pred_knn)))\n",
    "print('Test set root mean square erorr score : '+  str(mean_squared_error(y_test_claimed,y_test_pred_knn) ** 0.5))\n"
   ]
  },
  {
   "cell_type": "markdown",
   "metadata": {},
   "source": [
    "###### SVM "
   ]
  },
  {
   "cell_type": "code",
   "execution_count": 362,
   "metadata": {},
   "outputs": [
    {
     "name": "stdout",
     "output_type": "stream",
     "text": [
      "\u001b[1mSVR\n",
      " \u001b[0m\n",
      "Cross validation R2 score: -0.011083690218838049\n",
      "Test set R2 score :         0.042268154006051994\n",
      "Test set root mean square erorr score : 1062.1288241416466\n"
     ]
    }
   ],
   "source": [
    "from sklearn import svm\n",
    "\n",
    "lin_svm = svm.SVR(kernel='linear')\n",
    "cv_score_svm = cross_val_score(lin_svm,X_train_claimed_sca, y_train_claimed.to_numpy().flatten(),cv=10,scoring='r2')\n",
    "lin_svm.fit(X_train_claimed_sca,y_train_claimed.to_numpy().flatten())\n",
    "y_test_pred_svm = lin_svm.predict(X_test_claimed_sca)\n",
    "r2_score_svm = r2_score(y_test_claimed,y_test_pred_svm)\n",
    "\n",
    "print('\\033[1m' + 'SVR\\n ' + '\\033[0m')\n",
    "print('Cross validation R2 score: ' + str(cv_score_svm.mean()))\n",
    "print('Test set R2 score :         '+  str(r2_score(y_test_claimed,y_test_pred_svm)))\n",
    "print('Test set root mean square erorr score : '+  str(mean_squared_error(y_test_claimed,y_test_pred_svm) ** 0.5))\n"
   ]
  },
  {
   "cell_type": "markdown",
   "metadata": {},
   "source": [
    "###### Gradient Boosting "
   ]
  },
  {
   "cell_type": "code",
   "execution_count": 363,
   "metadata": {},
   "outputs": [
    {
     "name": "stdout",
     "output_type": "stream",
     "text": [
      "\u001b[1mGradientBoostingRegressor\n",
      " \u001b[0m\n",
      "Cross validation R2 score: 0.813213895765909\n",
      "Test set R2 score :         0.8357253434756058\n",
      "Test set root mean square erorr score : 439.8863791962097\n"
     ]
    }
   ],
   "source": [
    "gb_reg = GradientBoostingRegressor(random_state=0,n_estimators=300,min_samples_split=4,max_depth=2,learning_rate=0.1)\n",
    "cv_score_gb = cross_val_score(gb_reg,X_train_claimed, y_train_claimed.to_numpy().flatten(),cv=10,scoring='r2')\n",
    "gb_reg.fit(X_train_claimed,y_train_claimed.to_numpy().flatten())\n",
    "y_test_pred_gb = gb_reg.predict(X_test_claimed)\n",
    "r2_score_gb = r2_score(y_test_claimed,y_test_pred_gb)\n",
    "\n",
    "print('\\033[1m' + 'GradientBoostingRegressor\\n ' + '\\033[0m')\n",
    "print('Cross validation R2 score: ' + str(cv_score_gb.mean()))\n",
    "print('Test set R2 score :         '+  str(r2_score(y_test_claimed,y_test_pred_gb)))\n",
    "print('Test set root mean square erorr score : '+  str(mean_squared_error(y_test_claimed,y_test_pred_gb) ** 0.5))\n"
   ]
  },
  {
   "cell_type": "markdown",
   "metadata": {},
   "source": [
    "##### Decision Tree"
   ]
  },
  {
   "cell_type": "code",
   "execution_count": 364,
   "metadata": {},
   "outputs": [
    {
     "name": "stdout",
     "output_type": "stream",
     "text": [
      "\u001b[1mDecisionTreeRegressor\n",
      " \u001b[0m\n",
      "Cross validation R2 score: 0.2102722109366189\n",
      "Test set R2 score :         0.32311817552050337\n",
      "Test set root mean square erorr score : 892.9181626632258\n"
     ]
    }
   ],
   "source": [
    "dt_reg = DecisionTreeRegressor(random_state=0,max_depth= 25)\n",
    "cv_score_dt = cross_val_score(dt_reg,X_train_claimed, y_train_claimed,cv=10,scoring='r2')\n",
    "dt_reg.fit(X_train_claimed,y_train_claimed)\n",
    "y_test_pred_dt = dt_reg.predict(X_test_claimed)\n",
    "r2_score_dt = r2_score(y_test_claimed,y_test_pred_dt)\n",
    "\n",
    "print('\\033[1m' + 'DecisionTreeRegressor\\n ' + '\\033[0m')\n",
    "print('Cross validation R2 score: ' + str(cv_score_dt.mean()))\n",
    "print('Test set R2 score :         '+  str(r2_score(y_test_claimed,y_test_pred_dt)))\n",
    "print('Test set root mean square erorr score : '+  str(mean_squared_error(y_test_claimed,y_test_pred_dt) ** 0.5))\n"
   ]
  },
  {
   "cell_type": "markdown",
   "metadata": {},
   "source": [
    "### Regression models perfomace plot"
   ]
  },
  {
   "cell_type": "code",
   "execution_count": 365,
   "metadata": {},
   "outputs": [
    {
     "data": {
      "image/png": "[encoded data removed]",
      "text/plain": [
       "<Figure size 1008x360 with 1 Axes>"
      ]
     },
     "metadata": {
      "needs_background": "light"
     },
     "output_type": "display_data"
    }
   ],
   "source": [
    "acc_score =[r2_score_lin, r2_score_knn, r2_score_gb, r2_score_dt]\n",
    "\n",
    "\n",
    "N=4\n",
    "X = np.arange(N)\n",
    "width = 0.10\n",
    "plt.bar(X, acc_score, width, color='r')\n",
    "plt.xticks(X + width / 2, ('Linear Regression', 'KNN','GradientBoosting','Decision Tree'))\n",
    "\n",
    "plt.ylabel('R2')\n",
    "plt.xlabel('models')\n",
    "plt.title('Performance')\n",
    "#plt.ylim([,98])\n",
    "plt.rcParams[\"figure.figsize\"] = (10,5)\n",
    "\n",
    "plt.show()"
   ]
  },
  {
   "cell_type": "code",
   "execution_count": 376,
   "metadata": {},
   "outputs": [
    {
     "name": "stdout",
     "output_type": "stream",
     "text": [
      "                         Linear Regression           KNN             GradientBoosting          Decision Tree\n",
      "\n",
      "Test set R2 score  :     0.8574177548224118     0.5701058847735825     0.8357253434756058     0.32311817552050337\n",
      "Test set RMSE error:     409.81509889921205     711.6000676480139      439.8863791962097      892.9181626632258\n"
     ]
    }
   ],
   "source": [
    "print('                         '+ 'Linear Regression       '+'    KNN          '+ '   GradientBoosting'+\n",
    "      '          Decision Tree\\n')\n",
    "print('Test set R2 score  :     ' + str(r2_score_lin)+'     '+str(r2_score_knn)+'     '+ \n",
    "str(r2_score_gb)+ '     '+str(r2_score_dt))\n",
    "print('Test set RMSE error:     '+  str(mean_squared_error(y_test_claimed,y_test_pred_lin) ** 0.5) + \n",
    "      '     ' +str(mean_squared_error(y_test_claimed,y_test_pred_knn) ** 0.5) + '      '+\n",
    "      str(mean_squared_error(y_test_claimed,y_test_pred_gb) ** 0.5)+\n",
    "      '      '+ str(mean_squared_error(y_test_claimed,y_test_pred_dt) ** 0.5))"
   ]
  },
  {
   "cell_type": "markdown",
   "metadata": {},
   "source": [
    "### Test Set Prediction"
   ]
  },
  {
   "cell_type": "markdown",
   "metadata": {},
   "source": [
    "As can be seen from the above model analysis, SVM is best suited for classification while linear regression is doing well \n",
    "to predict the insuranace claimed value.\n"
   ]
  },
  {
   "cell_type": "code",
   "execution_count": 367,
   "metadata": {},
   "outputs": [],
   "source": [
    "test_y = test[['Target']]\n",
    "test_X = test.drop(columns=['Target'],axis=1)\n",
    "\n",
    "test_X_sca= sca.transform(test_X)"
   ]
  },
  {
   "cell_type": "code",
   "execution_count": 368,
   "metadata": {},
   "outputs": [],
   "source": [
    "\n",
    "is_claimed = svmc.predict(test_X_sca)\n",
    "Claim_value = lin_reg.predict(test_X_sca)\n",
    "test_org['is_claimed'] = is_claimed\n",
    "test_org['Claim_value'] = Claim_value"
   ]
  },
  {
   "cell_type": "code",
   "execution_count": 377,
   "metadata": {},
   "outputs": [],
   "source": []
  },
  {
   "cell_type": "code",
   "execution_count": null,
   "metadata": {},
   "outputs": [],
   "source": [
    "test_org['Target'] = test_org.apply(lambda x: x['is_claimed'] if x['is_claimed'] == 0 else abs(x['Claim_value']), axis=1)\n",
    "test_org.drop(columns=['is_claimed','Claim_value'],axis=1,inplace=True)\n"
   ]
  },
  {
   "cell_type": "code",
   "execution_count": null,
   "metadata": {},
   "outputs": [],
   "source": []
  }
 ],
 "metadata": {
  "kernelspec": {
   "display_name": "Python 3",
   "language": "python",
   "name": "python3"
  },
  "language_info": {
   "codemirror_mode": {
    "name": "ipython",
    "version": 3
   },
   "file_extension": ".py",
   "mimetype": "text/x-python",
   "name": "python",
   "nbconvert_exporter": "python",
   "pygments_lexer": "ipython3",
   "version": "3.8.5"
  }
 },
 "nbformat": 4,
 "nbformat_minor": 4
}
